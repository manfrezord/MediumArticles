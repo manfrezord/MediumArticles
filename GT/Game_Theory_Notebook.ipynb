{
 "cells": [
  {
   "cell_type": "markdown",
   "id": "2280b88b",
   "metadata": {},
   "source": [
    "# Game Theory\n",
    "This Jupyter notebook contains some practical examples mentioned in the article [If You See Life as a Game, You Better Know How to Play It](https://medium.com/towards-data-science/if-you-see-life-as-a-game-you-better-know-how-to-play-it-f7aaa365caf1?sk=2de90afceb7b428dfebfcebbb255cfe3) published in Towards Data Science."
   ]
  },
  {
   "cell_type": "markdown",
   "id": "89bf5d29",
   "metadata": {},
   "source": [
    "## Libraries\n",
    "This notebook uses only three libraries: numpy, random and matplotlib."
   ]
  },
  {
   "cell_type": "code",
   "execution_count": 2,
   "id": "e1e516dc",
   "metadata": {},
   "outputs": [],
   "source": [
    "import random\n",
    "import numpy as np\n",
    "import matplotlib.pyplot as plt"
   ]
  },
  {
   "cell_type": "markdown",
   "id": "ab43d006",
   "metadata": {},
   "source": [
    "## Example 1. The cosmic game\n",
    "The [article]() presents the following problem:\n",
    "\n",
    ">Somewhere in an uncharted galaxy, you and your friend are being held prisoners by an enigmatic group of extraterrestrial beings. They promise to let you go if you beat them in one of their games. You sit at a cosmic table with one of the aliens who distributes bags containing both a black and a white rock. When the game starts, every player will select a rock and put it on the table. The winner is whoever picks the rock with a different color. This means, whoever chooses black when the other two choose white or whoever chooses white when the other two choose black. Every time someone wins, they will give you a coin to pile up on your side of the table. You will play this game a million times, the final winner is whoever gets more coins at the end. Besides the rules of the game, the only other information you have is that the alien always plays black with a 50% probability. Seconds before the game starts, your partner whispers the strategy you should follow. After a million games, the final score declares both of you as the winners since you got more coins than the alien. Was this pure luck? How important was your partner’s strategy?\n",
    "\n",
    "The article explains why this game has only one Mixed Strategy Nash Equilibrium when all players choose black or white with 50% probability. It also explains why, in the particular case of this example, the two non-alien players can work as a team to beat the alien if they agree to play inverse strategies. This means that one will play white while the other one plays black. This will guarantee that the alien will lose every game while one of the two friends will win it. \n",
    "\n",
    "The next code simulates the game after multiple repetitions. You can change the probability with which each player chooses the color and see how many times they win at the end.\n"
   ]
  },
  {
   "cell_type": "code",
   "execution_count": 15,
   "id": "a6ed0655",
   "metadata": {
    "scrolled": true
   },
   "outputs": [
    {
     "name": "stdout",
     "output_type": "stream",
     "text": [
      "The final score for Player 1 is:  2504\n",
      "The final score for Player 2 is:  2494\n",
      "The final score for Player 3 is:  2478\n"
     ]
    },
    {
     "data": {
      "image/png": "[encoded data removed]",
      "text/plain": [
       "<Figure size 432x288 with 1 Axes>"
      ]
     },
     "metadata": {
      "needs_background": "light"
     },
     "output_type": "display_data"
    }
   ],
   "source": [
    "# 1. NUMBER OF REPETITIONS:\n",
    "iterations=10000\n",
    "\n",
    "# 2. PROBABILITY FOR EACH PLAYER\n",
    "Prob1=0.5 #Prob. for Player 1\n",
    "Prob2=0.5 #Prob. for Player 2\n",
    "Prob3=0.5 #Prob. for Player 3\n",
    "\n",
    "# 3. CREATE A VARIABLE \"SCORE\" TO KEEP TRACK OF EACH PLAYER'S WINS\n",
    "Score_P1=[]\n",
    "Score_P2=[]\n",
    "Score_P3=[]\n",
    "\n",
    "# 4. REPEAT THE GAME MULTIPLE TIMES AND TOTALIZE THE NUMBER OF TIMES EACH PLAYER WINS\n",
    "for i in range(iterations):\n",
    "    q=random.uniform(0,1) #Random number to use with Player 1\n",
    "    r=random.uniform(0,1) #Random number to use with Player 2\n",
    "    p=random.uniform(0,1) #Random number to use with Player 3\n",
    "    \n",
    "    if q<=Prob1: #Player 1 plays White\n",
    "        if r<=Prob2 and p<=Prob3: #Player 2 plays White and Player 3 plays White\n",
    "            S1=0\n",
    "            S2=0\n",
    "            S3=0\n",
    "        if r<=Prob2 and p>Prob3: #Player 2 plays White and Player 3 plays Black\n",
    "            S1=0\n",
    "            S2=0\n",
    "            S3=1\n",
    "        if r>Prob2 and p<=Prob3: #Player 2 plays Black and Player 3 plays White\n",
    "            S1=0\n",
    "            S2=1\n",
    "            S3=0\n",
    "        if r>Prob2 and p>Prob3: #Player 2 plays Black and Player 3 plays Black\n",
    "            S1=1\n",
    "            S2=0\n",
    "            S3=0\n",
    "    else:        #Player 1 plays Black\n",
    "        if r<=Prob2 and p<=Prob3: #Player 2 plays White and Player 3 plays White\n",
    "            S1=1\n",
    "            S2=0\n",
    "            S3=0\n",
    "        if r<=Prob2 and p>Prob3: #Player 2 plays White and Player 3 plays Black\n",
    "            S1=0\n",
    "            S2=1\n",
    "            S3=0\n",
    "        if r>Prob2 and p<=Prob3: #Player 2 plays Black and Player 3 plays White\n",
    "            S1=0\n",
    "            S2=0\n",
    "            S3=1\n",
    "        if r>Prob2 and p>Prob3: #Player 2 plays Black and Player 3 plays Black\n",
    "            S1=0\n",
    "            S2=0\n",
    "            S3=0\n",
    "    \n",
    "    Score_P1.append(S1)\n",
    "    Score_P2.append(S2)\n",
    "    Score_P3.append(S3)\n",
    "\n",
    "# 5. PRINT THE FINAL SCORE FOR EACH PLAYER:\n",
    "print(\"The final score for Player 1 is: \", sum(Score_P1))\n",
    "print(\"The final score for Player 2 is: \", sum(Score_P2))\n",
    "print(\"The final score for Player 3 is: \", sum(Score_P3))\n",
    "\n",
    "# 6. BAR PLOT OF THE SCORES\n",
    "\n",
    "# Data for the bar plot\n",
    "names = [\"Player 1\", \"Player 2\", \"Player 3\"]\n",
    "scores = [sum(Score_P1), sum(Score_P2), sum(Score_P3)]\n",
    "\n",
    "# Specify the colors\n",
    "colors = ['green', 'red', 'blue']\n",
    "\n",
    "# Plotting the bar chart\n",
    "plt.bar(names, scores, color=colors)\n",
    "\n",
    "# Adding labels and title\n",
    "plt.xlabel(\"Players\")\n",
    "plt.ylabel(\"Scores\")\n",
    "plt.title(\"Final scores\")\n",
    "\n",
    "# Adding scores on top of the bars\n",
    "for i, score in enumerate(scores):\n",
    "    plt.text(i, score + 1, str(score), ha='center', va='bottom')\n",
    "\n",
    "# Display the plot\n",
    "plt.show()\n",
    "\n"
   ]
  },
  {
   "cell_type": "markdown",
   "id": "cbd2a492",
   "metadata": {},
   "source": [
    "## Example 2. The protection plan\n",
    "\n",
    "The [article](https://medium.com/towards-data-science/if-you-see-life-as-a-game-you-better-know-how-to-play-it-f7aaa365caf1?sk=2de90afceb7b428dfebfcebbb255cfe3) presents this other problem:\n",
    "\n",
    ">After saving all year and waiting for Black Friday, you finally decide you will buy the \\\\$1000 TV you always wanted. Just before checking out, the cashier asks you if you want to buy a protection plan (PP) for “just \\\\$175 more”. This protection plan will cover expenses related to your TV in the following 4 years. Is this a good idea?\n",
    "\n",
    "This problem can be summarized in the following payoff matrix:\n",
    "\n",
    "| Company\\Buyer | Add PP   | Don't add PP |\n",
    "|----------|----------|----------|\n",
    "| TV breaks down in the next 4 years | (675, -1175) | (1000, -1500) |\n",
    "| TV doesn't break down in the next 4 years | (1175, -1175) | (1000, -1000) |\n",
    "\n",
    "In the previous matrix it is assumed that the cost of repairing the TV is \\\\$500 which is payed by the company or the buyer depending on the case. There is a Nash Equilibrium in the case where the buyer does not add the PP and TV does not break down.\n",
    "\n",
    "### Buyer's point of view\n",
    "\n",
    "In this case we should find the probability of the TV breaking down ($q$) so that the buyer is indifferent between adding or not the PP. This means that the expected value in both scenarios is the same:\n",
    "\n",
    "$- 1175\\times q -1175\\times (1-q) = -1500\\times q -1000\\times (1-q)$\n",
    "\n",
    "$ q=0.35 $\n",
    "\n",
    "This means that if a TV has a probability of failure of less than 0.35 then the Expected value **adding** the PP represent a higher cost for the buyer. In the following plot you can see the Expected Cost for both scenarios. Note how adding the PP represents the same cost regardless of the probability of the TV breaking down. However in the case where the buyer does not add the PP there are some cases where the cost ends up being higher than adding the PP. This plot considers the cost of the PP and the repair.\n",
    "\n",
    "In addition to this plot, this code calculates how much a buyer would spend if he buys multiple TVs with and without the PP."
   ]
  },
  {
   "cell_type": "code",
   "execution_count": 36,
   "id": "ef32ce19",
   "metadata": {},
   "outputs": [
    {
     "name": "stdout",
     "output_type": "stream",
     "text": [
      "q is:  0.35\n"
     ]
    },
    {
     "data": {
      "image/png": "[encoded data removed]",
      "text/plain": [
       "<Figure size 432x288 with 1 Axes>"
      ]
     },
     "metadata": {
      "needs_background": "light"
     },
     "output_type": "display_data"
    },
    {
     "data": {
      "image/png": "[encoded data removed]",
      "text/plain": [
       "<Figure size 432x288 with 1 Axes>"
      ]
     },
     "metadata": {
      "needs_background": "light"
     },
     "output_type": "display_data"
    }
   ],
   "source": [
    "# 1. NUMBER OF REPETITIONS:\n",
    "iterations=100\n",
    "\n",
    "# 2. COSTS AND PROBABILITY OF FAILURE\n",
    "Prob=0.04 #Real Probability of the TV breaking down\n",
    "TV=1000 #Cost of the TV\n",
    "PP=175 #Cost of the Protection Plan\n",
    "REP=500 #Cost of repairing the TV\n",
    "\n",
    "# 3. CALCULATE q\n",
    "q=PP/REP\n",
    "print('q is: ', q)\n",
    "\n",
    "# 4. PLOT COST VS q FOR THE TWO SCENARIOS\n",
    "Probs=np.linspace(0, 1, 10)\n",
    "WithPP=(-TV-PP)*np.ones(10)\n",
    "WithoutPP=(-(TV+REP)*Probs-TV*(1-Probs))\n",
    "\n",
    "plt.plot(Probs, WithPP, label='With PP', color='red', linewidth=2)\n",
    "plt.plot(Probs, WithoutPP, label='Without PP', color='blue', linewidth=2)\n",
    "plt.plot(np.array([q,q]),np.array([-TV-PP,WithoutPP[-1]]), color='grey', linestyle='--')\n",
    "plt.legend()\n",
    "plt.xlabel('Probability of the TV breaking down (q)')\n",
    "plt.ylabel('Expected Cost ($)')\n",
    "plt.show()\n",
    "\n",
    "# 5. BUYING MULTIPLE TVs WITH AND WITHOUT THE PP\n",
    "# Adding the PP\n",
    "TotalCost_w_PP=(-TV-PP)*iterations\n",
    "TotalCost_wo_PP=[]\n",
    "# Without adding the PP\n",
    "for i in range(iterations):\n",
    "    p=random.uniform(0,1)\n",
    "    if p<Prob:\n",
    "        Cost=(-TV-REP)\n",
    "    else:\n",
    "        Cost=-TV\n",
    "    TotalCost_wo_PP.append(Cost)\n",
    "\n",
    "# 6. BAR PLOT OF THE COSTS\n",
    "\n",
    "# Data for the bar plot\n",
    "names = [\"Adding the PP\", \"Without adding the PP\"]\n",
    "costs = [TotalCost_w_PP, sum(TotalCost_wo_PP)]\n",
    "\n",
    "# Specify the colors\n",
    "colors = ['red', 'blue']\n",
    "\n",
    "# Plotting the bar chart\n",
    "plt.bar(names, costs, color=colors)\n",
    "\n",
    "# Adding labels and title\n",
    "plt.xlabel(\"Decision\")\n",
    "plt.ylabel(\"Final Cost\")\n",
    "\n",
    "# Adding scores on top of the bars\n",
    "for i, score in enumerate(costs):\n",
    "    plt.text(i, score + 1, str(score), ha='center', va='top')\n",
    "\n",
    "# Display the plot\n",
    "plt.show()"
   ]
  },
  {
   "cell_type": "markdown",
   "id": "27e1e174",
   "metadata": {},
   "source": [
    "### Seller's point of view\n",
    "From a seller's perspective, an important question is: \"Knowing that the probability of a TV breaking down in the first 4 years is $x$, what should be the price of the PP so that I don’t care if people add the PP or not?\" In this case we can also equalize the expected value **for the seller** if the buyer adds the PP or if he doesn't. This will also result in $q=0.35$. This means that if the TV breaks down with a probability of 0.35, the seller will have the same expected value ($1000) regardless of what the buyer decides to do. However, if the probability of the TV breaking down is less than 0.35 (which usually is), then the expected value for the seller is higher when the buyer adds the PP.\n",
    "\n",
    "We can run an experiment and calculate what the expected value is after multiple TV sales. Note how the cost of the PP so that the seller is indifferent between selling the PP or not is \\\\$20 if we consider that the real probability of TV breaking down is 0.04. By setting the PP to \\\\$175 the seller ensures that his expected value is always higher in the scenario where someone adds the PP (and probably the TV breaks down) than the scenario in which they don't."
   ]
  },
  {
   "cell_type": "code",
   "execution_count": 43,
   "id": "f91e901a",
   "metadata": {},
   "outputs": [
    {
     "data": {
      "image/png": "[encoded data removed]",
      "text/plain": [
       "<Figure size 432x288 with 1 Axes>"
      ]
     },
     "metadata": {
      "needs_background": "light"
     },
     "output_type": "display_data"
    }
   ],
   "source": [
    "# 1. NUMBER OF REPETITIONS:\n",
    "iterations=100\n",
    "\n",
    "# 2. COSTS AND PROBABILITY OF FAILURE\n",
    "Prob=0.04 #Real Probability of the TV breaking down\n",
    "TV=1000 #Cost of the TV\n",
    "PP=175 #Cost of the Protection Plan\n",
    "REP=500 #Cost of repairing the TV\n",
    "\n",
    "# 3. SELLING MULTIPLE TVs WITH AND WITHOUT THE PP\n",
    "Earnings_w_PP=[]\n",
    "Earnings_wo_PP=[]\n",
    "for i in range(iterations):\n",
    "    p=random.uniform(0,1)\n",
    "    if p<Prob: #In this case, the TV breaks down\n",
    "        Rev_w_PP=TV+PP-REP #The seller pays the repair\n",
    "        Rev_wo_PP=TV #The seller doesn't pay the repair\n",
    "    else:      #In this case, the TV doesn't break down\n",
    "        Rev_w_PP=TV+PP\n",
    "        Rev_wo_PP=TV\n",
    "    Earnings_w_PP.append(Rev_w_PP)\n",
    "    Earnings_wo_PP.append(Rev_wo_PP)\n",
    "\n",
    "# 4. BAR PLOT OF THE EARNINGS\n",
    "\n",
    "# Data for the bar plot\n",
    "names = [\"Adding the PP\", \"Without adding the PP\"]\n",
    "earnings = [sum(Earnings_w_PP), sum(Earnings_wo_PP)]\n",
    "\n",
    "# Specify the colors\n",
    "colors = ['red', 'blue']\n",
    "\n",
    "# Plotting the bar chart\n",
    "plt.bar(names, earnings, color=colors)\n",
    "\n",
    "# Adding labels and title\n",
    "plt.xlabel(\"Decision\")\n",
    "plt.ylabel(\"Final Revenue\")\n",
    "\n",
    "# Adding scores on top of the bars\n",
    "for i, score in enumerate(earnings):\n",
    "    plt.text(i, score + 1, str(score), ha='center', va='bottom')\n",
    "\n",
    "# Display the plot\n",
    "plt.show()\n"
   ]
  },
  {
   "cell_type": "markdown",
   "id": "90f1073c",
   "metadata": {},
   "source": [
    "## Conclusion\n",
    "\n",
    "From fictitious scenarios such as alien’ encounters to going shopping, our lives are filled with decisions that carry different consequences. These consequences are not only a product of our decisions but of other’s decisions which in turn depend on someone else’s decisions. While we cannot control what others do, we can learn to analyze every problem as a game that involves players, strategies and payoffs. This is exactly what Game Theory stands for and why it has so many applications. Next time you are faced with a decision to take, remember this, perhaps it will save some bucks or some years in jail!\n"
   ]
  },
  {
   "cell_type": "code",
   "execution_count": null,
   "id": "fd7d8f41",
   "metadata": {},
   "outputs": [],
   "source": []
  }
 ],
 "metadata": {
  "kernelspec": {
   "display_name": "Python 3 (ipykernel)",
   "language": "python",
   "name": "python3"
  },
  "language_info": {
   "codemirror_mode": {
    "name": "ipython",
    "version": 3
   },
   "file_extension": ".py",
   "mimetype": "text/x-python",
   "name": "python",
   "nbconvert_exporter": "python",
   "pygments_lexer": "ipython3",
   "version": "3.9.7"
  }
 },
 "nbformat": 4,
 "nbformat_minor": 5
}
