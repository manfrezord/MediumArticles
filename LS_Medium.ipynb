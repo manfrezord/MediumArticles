{
 "cells": [
  {
   "cell_type": "markdown",
   "metadata": {},
   "source": [
    "# A beautiful way of looking at linear regressions\n",
    "### This notebook contains the code related a Medium article about linear regressions and orthogonal projections"
   ]
  },
  {
   "cell_type": "markdown",
   "metadata": {},
   "source": [
    "<img src=Plot.png width=\"800\" />\n",
    "Did you know that linear regressions are actually orthogonal projections? Whether you knew this or not you might want to read this article. It has a simple explanation for this and it also has some nice pictures! The code that is written below was used to generate some plots where a point in space is projected onto a plane formed by 2 vectors. This is similar to taking 3 data points and finding 2 linear regression coefficients that best fit those points. Before going through this code, it is better to read first the article."
   ]
  },
  {
   "cell_type": "markdown",
   "metadata": {},
   "source": [
    "## Implementation of the code"
   ]
  },
  {
   "cell_type": "markdown",
   "metadata": {},
   "source": [
    "#### Importing the libraries"
   ]
  },
  {
   "cell_type": "code",
   "execution_count": null,
   "metadata": {},
   "outputs": [],
   "source": [
    "%matplotlib notebook\n",
    "import numpy as np #NumPy https://numpy.org/\n",
    "import matplotlib.pyplot as plt #Matplotlib https://matplotlib.org/\n",
    "from mpl_toolkits.mplot3d import Axes3D  \n",
    "from mpl_toolkits import mplot3d"
   ]
  },
  {
   "cell_type": "markdown",
   "metadata": {},
   "source": [
    "#### Generating some useful functions\n",
    "##### Coefficients:\n",
    "This function calculates the linear regression coefficients considering the target values `t` and the matrix `A`:\n",
    "<img src=Eq_coeff.png width=\"200\" />\n",
    "Remember that the matrix A will have as many rows as data points you have and as many columns as linear regression coefficients you want."
   ]
  },
  {
   "cell_type": "code",
   "execution_count": null,
   "metadata": {},
   "outputs": [],
   "source": [
    "def Coefficients(A,t):\n",
    "    c=np.dot(np.dot(np.linalg.inv(np.dot(A.T,A)),A.T),t)\n",
    "    return c"
   ]
  },
  {
   "cell_type": "markdown",
   "metadata": {},
   "source": [
    "##### Projection2D:\n",
    "This function takes as input a matrix `A` and a target vector `t` and it calculates 3 things:\n",
    "* From the matrix `A` it extracts the vectors that will create the 2D subspace. These vectors are saved in a dictionary `V` \n",
    "* It calculates the normal vector to the plane defined by `V`. This vector is called `normal`\n",
    "* It calculates the projection of vector `t` onto the plane"
   ]
  },
  {
   "cell_type": "code",
   "execution_count": null,
   "metadata": {},
   "outputs": [],
   "source": [
    "def Projection2D(A,t):\n",
    "    #Extract vectors from A\n",
    "    V={}\n",
    "    for i in range(A.shape[1]):\n",
    "        V[i]=A[:,i]\n",
    "    \n",
    "    #Calculate normal vector\n",
    "    normal=np.cross(V[0],V[1])\n",
    "    \n",
    "    #Calculate the projection of t onto the plane\n",
    "    x=-(normal[0]*t[0]+normal[1]*t[1]+normal[2]*t[2])/(normal[0]**2+normal[1]**2+normal[2]**2)\n",
    "    p=np.zeros(3)\n",
    "    for i in range(p.shape[0]):\n",
    "        p[i]=t[i]+normal[i]*x\n",
    "    return p,normal,V"
   ]
  },
  {
   "cell_type": "markdown",
   "metadata": {},
   "source": [
    "#### Visualizing the projection of the target vector onto the plane\n",
    "The following code takes a vector `t` and projects it into the subspace formed by the columns of matrix `A`. The code is divided into 6 parts:\n",
    "\n",
    "1. Definition of the input values: the matrix A and the target vector t\n",
    "2. Plotting the plane defined by A\n",
    "3. Plotting the points that correspond to the vectors, the target and the projection\n",
    "4. Plotting some lines that help to better visualize the projection\n",
    "5. Plotting annotations next to the vectors, the target and the projection\n",
    "6. General settings for the plot"
   ]
  },
  {
   "cell_type": "code",
   "execution_count": null,
   "metadata": {},
   "outputs": [],
   "source": [
    "# 1. DEFINE A AND t\n",
    "A=np.array([[1, 1], [1, 2],[1,3]]) #WRITE HERE THE VALUES FOR MATRIX A\n",
    "t=np.array([[3],[1],[4]]) #WRITE HERE THE VALUES FOR VECTOR t\n",
    "\n",
    "# 2. PLOT THE 2D SUBSPACE FORMED BY MATRIX A\n",
    "#  2a. Calculate the vectors, the normal vector to the plane and the projection of t onto the plane\n",
    "p,normal,V=Projection2D(A,t)\n",
    "\n",
    "#  2b. Use the normal vector to plot the plane in space\n",
    "def fun(x, y):\n",
    "    return (-normal[0]*x-normal[1]*y)/normal[2]\n",
    "fig = plt.figure(figsize=(7, 7))\n",
    "ax=plt.axes(projection='3d')\n",
    "ax.set_proj_type('ortho')\n",
    "x = y = np.arange(0, 3, 0.05) #Modify this to change the extension of the plane\n",
    "X, Y = np.meshgrid(x, y)\n",
    "zs = np.array(fun(np.ravel(X), np.ravel(Y)))\n",
    "Z = zs.reshape(X.shape)\n",
    "ax.plot_surface(X, Y, Z,cmap='coolwarm', alpha=0.5) #surface\n",
    "#If you want to check the color go to this page: https://matplotlib.org/stable/tutorials/colors/colormaps.html\n",
    "\n",
    "# 3. PLOT THE POINTS\n",
    "#  3a. Vector1 and Vector2\n",
    "ax.scatter3D(V[0][0], V[0][1], V[0][2], c='blue', s=25 )\n",
    "ax.scatter3D(V[1][0], V[1][1], V[1][2], c='blue', s=25 )\n",
    "#  3b. Target\n",
    "ax.scatter3D(t[0], t[1], t[2], c='red', s=25 )\n",
    "#  Projection on the plane\n",
    "ax.scatter3D(p[0], p[1], p[2], s=25,edgecolors='black', c='white') \n",
    "\n",
    "# 4. PLOT THE LINES\n",
    "#  4a. Lines that represent vectors 1 and 2\n",
    "ax.plot3D([0,V[0][0]],[0,V[0][1]],[0,V[0][2]],'black', lw=2, )\n",
    "ax.plot3D([0,V[1][0]],[0,V[1][1]],[0,V[1][2]],'black', lw=2, )\n",
    "\n",
    "#  4b. Lines to extend Vector 1 and 2\n",
    "ax.plot3D([-0*V[0][0],2*V[0][0]],[-0*V[0][1],2*V[0][1]],[-0*V[0][2],2*V[0][2]],'grey', lw=1, linestyle='--' ) \n",
    "ax.plot3D([-0*V[1][0],2*V[1][0]],[-0*V[1][1],2*V[1][1]],[-0*V[1][2],2*V[1][2]],'grey', lw=1, linestyle='--' ) \n",
    "\n",
    "#  4c. Line that represents target vector\n",
    "ax.plot3D([0,t[0]],[0,t[1]],[0,t[2]],'black', lw=2, )\n",
    "\n",
    "#  4d. Line that goes from the target vector to the projection\n",
    "ax.plot3D([t[0],p[0]],[t[1],p[1]],[t[2],p[2]],'black', linestyle='--') \n",
    "\n",
    "#  4e. Blue lines to represent the x,y,z axis. Modify the extension of the lines if you need to.\n",
    "ax.plot3D([0,5],[0,0],[0,0],'blue',lw=0.5)\n",
    "ax.plot3D([0,0],[0,5],[0,0],'blue',lw=0.5)\n",
    "ax.plot3D([0,0],[0,0],[0,5],'blue',lw=0.5)\n",
    "\n",
    "#5. ANNOTATIONS\n",
    "#  5a. Calculate the linear regression coefficients or the position of the projection with respect to the plane\n",
    "x=Coefficients(A,t)\n",
    "\n",
    "#  5b. Annotations for the coefficients c\n",
    "ax.text(p[0]+0.1, p[1]+0.1, p[2]+0.1, 'c=(%2.2f, %2.2f)' % (x[0],x[1]) , color='black') \n",
    "\n",
    "#  5c. Annotations for the target vector\n",
    "ax.text(float(t[0])+0.5, float(t[1])-1.5, float(t[2])+0.5, 't=(%2d,%2d,%2d)' % (t[0],t[1],t[2]) , color='black')\n",
    "\n",
    "#  5d. Annotations for the vectors that defined the plane\n",
    "ax.text(V[0][0]+0.1, V[0][1]+0.1, V[0][2]+0.1, 'B=(%2d,%2d,%2d)' % (V[0][0],V[0][1],V[0][2]) , color='black')#VectorA\n",
    "ax.text(V[1][0]+0.1, V[1][1]+0.1, V[1][2]+0.1, 'A=(%2d,%2d,%2d)' % (V[1][0],V[1][1],V[1][2]) , color='black')#VectorB\n",
    "\n",
    "#6. PLOT SETTINGS\n",
    "#  6a. Axis' labels\n",
    "ax.set_xlabel('X')\n",
    "ax.set_ylabel('Y')\n",
    "ax.set_zlabel('Z')\n",
    "\n",
    "#  6b. Axis' limits \n",
    "ax.set_xlim3d(0, 5) #Here it is important to define the same length for all axis in order to see the orthogonality\n",
    "ax.set_ylim3d(0, 5)\n",
    "ax.set_zlim3d(0, 5)\n",
    "#ax.view_init(0, 0)\n",
    "plt.show()"
   ]
  },
  {
   "cell_type": "code",
   "execution_count": null,
   "metadata": {},
   "outputs": [],
   "source": []
  }
 ],
 "metadata": {
  "kernelspec": {
   "display_name": "Python 3",
   "language": "python",
   "name": "python3"
  },
  "language_info": {
   "codemirror_mode": {
    "name": "ipython",
    "version": 3
   },
   "file_extension": ".py",
   "mimetype": "text/x-python",
   "name": "python",
   "nbconvert_exporter": "python",
   "pygments_lexer": "ipython3",
   "version": "3.7.4"
  }
 },
 "nbformat": 4,
 "nbformat_minor": 2
}
