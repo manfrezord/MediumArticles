{
 "cells": [
  {
   "cell_type": "markdown",
   "metadata": {},
   "source": [
    "# P-Vales: Innocent until proven guilty"
   ]
  },
  {
   "cell_type": "markdown",
   "metadata": {},
   "source": [
    "P-values are present in many linear regression libraries or toolboxes. In most cases, their usage is limited to determine if they are less than or greater than 0.05. But, what does this really mean? Why a small P-value is an evidence that a regression coefficient is not zero? The origin of P-values presents them as more than just a discrimination criterion. Since their development more than 100 years ago in a famous Irish brewery, P-values have attracted many followers as well as critics. They even might be closer to multiverses than you may think...\n",
    "\n",
    "This Jupyter Notebook contains some of the plots that are included with the Medium article: P-Vales: Promisingly prophetic or purely problematic? [HYPERLINK]. In addition to be used as a backup for the Medium article, the objective of this notebook is to show where do the P-values come from and how to estimate them."
   ]
  },
  {
   "cell_type": "markdown",
   "metadata": {},
   "source": [
    "### Libraries:\n",
    "These are the libraries that will be used in this notebook"
   ]
  },
  {
   "cell_type": "code",
   "execution_count": null,
   "metadata": {},
   "outputs": [],
   "source": [
    "import pandas as pd #Pandas\n",
    "import numpy as np #NumPy\n",
    "import matplotlib.pyplot as plt #Matplotlib\n",
    "import scipy.stats as stats #SciPy\n",
    "from scipy.stats import t #To calculate left P-value\n",
    "import statsmodels.api as sm #To perform linear regressions\n",
    "import random \n",
    "import math"
   ]
  },
  {
   "cell_type": "markdown",
   "metadata": {},
   "source": [
    "### Part 1:\n",
    "<b>Problem:</b> Prof. Matthew Coolguy is a university professor teaching History of Early Medieval Europe. He has been teaching the same course for more than 8 semesters and he is worried about the poor performance of his students. He thinks that maybe lecturing at 7:00 am is too early for most of the students and is affecting their performance. He also thinks that the course material might have something to do with this. He uses really old slides with a lot of text and black and white pictures. Maybe if he updates the slides, reduces the amount of text and includes colourful pictures the students will be more interested in his course. Finally, one of Prof. Coolguy’s colleagues told him that he also had a similar problem and he solved it by changing classrooms. There are newer and brighter classrooms in a different building that Prof. Coolguy could use. He could move his lectures to that building and see how it goes.\n",
    "\n",
    "The grades that are saved in the csv file `Grades_norm.csv` correspond to 4 groups of students:\n",
    "- The original group of students. These are the grades that Prof. Coolguy has seen so far\n",
    "- The grades that the students would obtain in a scenario where Prof. Coolguy changes the start time\n",
    "- The grades that the students would obtain in a scenario where Prof. Coolguy changes the classroom\n",
    "- The grades that the students would obtain in a scenario where Prof. Coolguy changes the classroom material\n",
    "\n",
    "These grades will be stored in a dataframe named `Grades_norm`:"
   ]
  },
  {
   "cell_type": "code",
   "execution_count": null,
   "metadata": {},
   "outputs": [],
   "source": [
    "Grades_norm=pd.read_csv(\"Grades_norm.csv\")"
   ]
  },
  {
   "cell_type": "markdown",
   "metadata": {},
   "source": [
    "It is important to note that the objective of this exercise is to analyze how the P-values can be used to determine what is the influence of a variable in a population. Since we already have the distribution of all the grades we already know the results of the changes in the start time, classroom and class material.\n",
    "- Most of the students will increase their grades after the change on the start time\n",
    "- Most of the students will decrease their grades after the change on the classroom\n",
    "- Most of the students won't see any difference after changing the classroom materials\n",
    "\n",
    "We can visualize the distribution of grades in each one of the cases using Histograms. The following code will convert each of the columns into NumPy arrays and it will then plot each of the scenaroios as histograms."
   ]
  },
  {
   "cell_type": "code",
   "execution_count": null,
   "metadata": {},
   "outputs": [],
   "source": [
    "#Convert each column into NumPy arrays\n",
    "Population=Grades_norm[\"Current grades\"].to_numpy()\n",
    "Time_multiverse=Grades_norm[\"Time\"].to_numpy()\n",
    "Grades_multiverse=Grades_norm[\"Classroom\"].to_numpy()\n",
    "Material_multiverse=Grades_norm[\"Material\"].to_numpy()\n",
    "\n",
    "#Build the histogram for each scenario\n",
    "hist1, bins1 = np.histogram(Population, bins = range(11))\n",
    "hist2, bins2 = np.histogram(Time_multiverse, bins = range(11))\n",
    "hist3, bins3 = np.histogram(Grades_multiverse, bins = range(11))\n",
    "hist4, bins4 = np.histogram(Material_multiverse, bins = range(11))\n",
    "\n",
    "#Plot the histograms using the same x-axis\n",
    "fig, axs = plt.subplots(4, figsize=(15,18), sharey=True)\n",
    "fig.suptitle('Histograms', size=15)\n",
    "#fig.tight_layout()\n",
    "fig.subplots_adjust(top=0.94, hspace=0.2)\n",
    "axs[0].set_title(\"Original group of students\", y=-0.15)\n",
    "axs[0].bar(bins1[:-1], hist1, width = 1, align='edge', edgecolor='k')\n",
    "axs[1].set_title(\"Scenario 1: change in the start time\", y=-0.15)\n",
    "axs[1].bar(bins2[:-1], hist2, width = 1, align='edge', edgecolor='k', color='orange')\n",
    "axs[2].set_title(\"Scenario 2: change in the classroom\", y=-0.15)\n",
    "axs[2].bar(bins3[:-1], hist3, width = 1, align='edge', edgecolor='k', color='green')\n",
    "axs[3].set_title(\"Scenario 3: change in the class material\", y=-0.15)\n",
    "axs[3].bar(bins4[:-1], hist4, width = 1, align='edge', edgecolor='k', color='yellow')\n"
   ]
  },
  {
   "cell_type": "markdown",
   "metadata": {},
   "source": [
    "<b>Solution:</b> We are now going write a function that considers one of the scenarios and calculate the P-value that is associated with that change. This function follows these steps:\n",
    "1. Input data:\n",
    "\n",
    "    a. Which scenario do you want to try? `Scenario`\n",
    "    \n",
    "    b. How many students do you want to use as sample? `number_samples` \n",
    "    \n",
    "    c. How many iterations of this process do you want to implement? `iterations` \n",
    "\n",
    "\n",
    "2. Randomly select `number_samples` students from the scenario you chose\n",
    "3. With these group of students calculate their average grade (`Samp_Mean`) and their standard deviation (`Samp_Std`). Also, calculate the original population average grade (`Pop_Mean`) and standard deviation (`Pop_Std`). \n",
    "4. Calculate the t-student value (in the code is called `Z_score`) using the following equation: $ \\frac{(\\mu_{sample}-\\mu_{population})\\sqrt n}{\\sigma}$\n",
    "5. Calculate the P-value for both the left and right tails of the t-distribution\n",
    "6. Depending oh the P-value there are three possible paths:\n",
    "\n",
    "    a. The area under the curve to the right of the t-student value is less than 0.05: this means that we <b>could</b> reject one of the null hypotheses because the possibility of finding a group of students whose average grade is <b>greater than or equal to</b> the the sample population's average <b>in a world where that change does not have any influence on the student's grades</b> is less than 0.05.\n",
    "    \n",
    "    b. The area under the curve to the left of the t-student value is less than 0.05: this means that we <b>could</b> reject one of the null hypotheses because the possibility of finding a group of students whose average grade is <b>less than or equal to</b> the the sample population's average <b>in a world where that change does not have any influence on the student's grades</b> is less than 0.05.\n",
    "    \n",
    "    c. Neither of the areas is less than 0.05: this means that we cannot reject the null hypotheses. The distribution of grades in the population we selected is not enough of a proof to establish that the changes we did have an impact on the student's grades.\n",
    "   \n",
    "  Independently of each of the scenarios, the process continues as follows:\n",
    "  \n",
    "\n",
    "7. Draw `iterations` random samples of `number_samples` students from the selected scenario.\n",
    "8. For each of the samples calculate the average (`Means2`), standard deviation (`Stds2`) and its t-student value (`Zs_samples`)\n",
    "9. Generate a normal distribution plot with the location of the original sample selected on step 2 and the average values for the rest of the samples that were drawn on step 8. The y-axis position for each of the samples that are coming from step 8 are determined randomly. This is just for visualization purposes since most of the points will be very close together. This plot will show cases in which, although we are rejecting the null hypothesis (the changes had an effect on the students), the average grade of the students is not increasing in comparison to the average grade of the original population.\n",
    "10. Generate a t-distribution plot with the location of the original sample selected on step 2 and the t-student values for the rest of the samples that were drawn on step 8. The y-axis position for each of the samples that are coming from step 8 are determined randomly. This is just for visualization purposes since most of the points will be very close together. This plot will show cases in which, although the implemented changes had an effect on the students, we cannot reject the null hypothesis. This is an example of a False Negative. In this plot the shaded area below the curve represents a P-value of less than 0.05\n",
    "    "
   ]
  },
  {
   "cell_type": "code",
   "execution_count": null,
   "metadata": {},
   "outputs": [],
   "source": [
    "def PValues(Grades,Scenario,number_samples,iterations=100):\n",
    "    \n",
    "    \n",
    "#STEP 1. Decide which scenario you want to try\n",
    "    Population=Grades[\"Current grades\"].to_numpy()\n",
    "    if Scenario==\"Time\":\n",
    "        Scenario=Grades[\"Time\"].to_numpy()\n",
    "    elif Scenario==\"Classroom\":\n",
    "        Scenario=Grades[\"Classroom\"].to_numpy()\n",
    "    elif Scenario==\"Material\":\n",
    "        Scenario=Grades[\"Material\"].to_numpy()\n",
    "    \n",
    "#STEP 2. Randomly select the sample\n",
    "    Sample=np.zeros(number_samples)\n",
    "    n=np.zeros(number_samples)\n",
    "    for i in range(number_samples-1):\n",
    "        flag=0\n",
    "        while flag==0:\n",
    "            flag=1\n",
    "            n[i]=random.randint(0,np.size(Population)-1)\n",
    "            for j in range(i):\n",
    "                if n[i]==n[j]:\n",
    "                    flag=0\n",
    "        n=n.astype(int)\n",
    "        Sample[i]=Scenario[n[i]]\n",
    "    \n",
    "#STEP 3. Calculate Mean and Standard Deviation for Population and Sample\n",
    "    Pop_Mean=np.mean(Population)\n",
    "    Pop_Std=np.std(Population)\n",
    "    Samp_Mean=np.mean(Sample)\n",
    "    Samp_Std=np.std(Sample, ddof=1)\n",
    "    \n",
    "#STEP 4. Calculate Z-score\n",
    "    Z_score=(Samp_Mean-Pop_Mean)*np.sqrt(number_samples)/Samp_Std\n",
    "    \n",
    "#STEP 5.Calculate right-tail and left-tail P-value\n",
    "    P_left=t.cdf(Z_score, df=number_samples-1)\n",
    "    P_right=1-P_left\n",
    "    \n",
    "#STEP 6. Determine if you can reject the null Hypothesis and in which tail of the t curve you are\n",
    "    if P_right<0.05:\n",
    "        #Print first result\n",
    "        print(\"The right-tail P-value is %f. You can reject the Ho because the changes DO have a positive impact on the grades\" % P_right)\n",
    "        \n",
    "        #STEP 7. Generate multiple samples to test the P-value\n",
    "        Sample2=np.zeros(number_samples)\n",
    "        Means2=np.zeros(iterations)\n",
    "        Stds2=np.zeros(iterations)\n",
    "        Zs_samples=np.zeros(iterations)\n",
    "        for k in range(iterations):\n",
    "            for i in range(number_samples-1):\n",
    "                flag=0\n",
    "                while flag==0:\n",
    "                    flag=1\n",
    "                    #np.random.seed(r)\n",
    "                    n[i]=random.randint(0,np.size(Population)-1)\n",
    "                    for j in range(i):\n",
    "                        if n[i]==n[j]:\n",
    "                            flag=0\n",
    "                    n=n.astype(int)\n",
    "                    Sample2[i]=Scenario[n[i]]\n",
    "            #STEP 8. Calculate the average, standard deviation and t-student value for the new samples\n",
    "            Means2[k]=np.mean(Sample2)\n",
    "            Stds2[k]=np.std(Sample2,ddof=1)\n",
    "            Zs_samples[k]=(Means2[k]-Pop_Mean)*np.sqrt(number_samples)/Stds2[k]\n",
    "        \n",
    "        #STEP 9. Plot Normal curve with the position of test points\n",
    "        x = np.linspace(Pop_Mean - 3*Pop_Std, Pop_Mean + 3*Pop_Std, 100)\n",
    "        plt.figure(figsize=(15, 3)) \n",
    "        plt.plot(x, stats.norm.pdf(x, Pop_Mean, Pop_Std))\n",
    "        plt.plot([Pop_Mean,Pop_Mean],[0,stats.norm.pdf(Pop_Mean, Pop_Mean, Pop_Std)], ls='--')\n",
    "        color=np.where(Means2 <= Pop_Mean, 'red','black')\n",
    "        #np.random.seed(r)\n",
    "        random_ys=[np.random.rand()*stats.norm.pdf(Means2[i], Pop_Mean, Pop_Std) for i in range(np.size(Means2))]\n",
    "        plt.scatter(Means2,random_ys,s=15,edgecolor=color, facecolors='none')\n",
    "        plt.scatter(Samp_Mean,0,s=20,color='k')\n",
    "        plt.title('Normal Distribution')\n",
    "        plt.xlabel('x')\n",
    "        plt.ylabel('P(x)')\n",
    "        #plt.scatter(Means2,np.zeros(np.size(Means2)),s=5,c=color)\n",
    "        plt.show()\n",
    "        print(\"From %d random samples of %d students, there is(are) %d group(s) whose average grade is lower than the population\" % (iterations, number_samples,(color=='red').sum()))       \n",
    "        print()\n",
    "        \n",
    "        #STEP 10. Plot t curve with the position of test points\n",
    "        x = np.linspace(-6, 6, 500)\n",
    "        plt.figure(figsize=(15, 6)) \n",
    "        plt.plot(x, t.pdf(x, df=number_samples-1))\n",
    "        #plt.plot([Z_score,Z_score],[0,t.pdf(Z_score, df=number_samples)], ls='--', color='k')\n",
    "        #Fill under the curve\n",
    "        plt.fill_between(x,0,t.pdf(x, df=number_samples-1),where=x>=t.isf(0.05, df=number_samples-1),alpha=0.4,color='orange')\n",
    "        color=np.where(Zs_samples <= t.isf(0.05, df=number_samples-1), 'red','black')\n",
    "        #np.random.seed(r)\n",
    "        random_ys=[np.random.rand()*t.pdf(Zs_samples[i], df=number_samples-1) for i in range(np.size(Zs_samples))]\n",
    "        plt.scatter(Zs_samples,random_ys,s=10,edgecolor=color, facecolors='none')\n",
    "        plt.scatter(Z_score,0,s=20,color='k')\n",
    "        plt.title(\"t-Student's Distribution\")\n",
    "        plt.xlabel('t')\n",
    "        plt.ylabel('P(t)')\n",
    "        #plt.scatter(Zs_samples,np.zeros(np.size(Zs_samples)),s=5,c=color)\n",
    "        plt.show()\n",
    "        print(\"From %d random samples of %d students, there is(are) %d group(s) in which the P-value wouldn't have concluded that the Ho should be rejected\" % (iterations, number_samples,(color=='red').sum()))\n",
    "    elif P_left<0.05:\n",
    "        #Print first result\n",
    "        print(\"The left-tail P-value is %f. You can reject the Ho because the changes DO have a negative impact on the grades\" % P_left)\n",
    "        \n",
    "        #STEP 7. Generate multiple samples to test the P-value\n",
    "        Sample2=np.zeros(number_samples)\n",
    "        Means2=np.zeros(iterations)\n",
    "        Stds2=np.zeros(iterations)\n",
    "        Zs_samples=np.zeros(iterations)\n",
    "        for k in range(iterations):\n",
    "            for i in range(number_samples-1):\n",
    "                flag=0\n",
    "                while flag==0:\n",
    "                    flag=1\n",
    "                    #np.random.seed(r)\n",
    "                    n[i]=random.randint(0,np.size(Population)-1)\n",
    "                    for j in range(i):\n",
    "                        if n[i]==n[j]:\n",
    "                            flag=0\n",
    "                    n=n.astype(int)\n",
    "                    Sample2[i]=Scenario[n[i]]\n",
    "            #STEP 8. Calculate the average, standard deviation and t-student value for the new samples\n",
    "            Means2[k]=np.mean(Sample2)\n",
    "            Stds2[k]=np.std(Sample2,ddof=1)\n",
    "            Zs_samples[k]=(Means2[k]-Pop_Mean)*np.sqrt(number_samples)/Stds2[k]\n",
    "        \n",
    "        #STEP 9. Plot Normal curve with the position of test points\n",
    "        x = np.linspace(Pop_Mean - 3*Pop_Std, Pop_Mean + 3*Pop_Std, 100)\n",
    "        plt.figure(figsize=(15, 3)) \n",
    "        plt.plot(x, stats.norm.pdf(x, Pop_Mean, Pop_Std))\n",
    "        plt.plot([Pop_Mean,Pop_Mean],[0,stats.norm.pdf(Pop_Mean, Pop_Mean, Pop_Std)], ls='--')\n",
    "        color=np.where(Means2 >= Pop_Mean, 'red','black')\n",
    "        #np.random.seed(r)\n",
    "        random_ys=[np.random.rand()*stats.norm.pdf(Means2[i], Pop_Mean, Pop_Std) for i in range(np.size(Means2))]\n",
    "        plt.scatter(Means2,random_ys,s=15,edgecolor=color, facecolors='none')\n",
    "        plt.scatter(Samp_Mean,0,s=20,color='k')\n",
    "        plt.title('Normal Distribution')\n",
    "        plt.xlabel('x')\n",
    "        plt.ylabel('P(x)')\n",
    "        #plt.scatter(Means2,np.zeros(np.size(Means2)),s=5,c=color)\n",
    "        plt.show()\n",
    "        print(\"From %d random samples of %d students, there is(are) %d group(s) whose average grade is higher than the population\" % (iterations, number_samples,(color=='red').sum()))       \n",
    "        print()\n",
    "        \n",
    "        #STEP 10. Plot t curve with the position of test points\n",
    "        x = np.linspace(-6, 6, 500)\n",
    "        plt.figure(figsize=(15, 6)) \n",
    "        plt.plot(x, t.pdf(x, df=number_samples-1))\n",
    "        #plt.plot([Z_score,Z_score],[0,t.pdf(Z_score, df=number_samples)], ls='--', color='k')\n",
    "        #Fill under the curve\n",
    "        plt.fill_between(x,0,t.pdf(x, df=number_samples-1),where=x<=t.isf(0.95, df=number_samples-1),alpha=0.4,color='orange')\n",
    "        color=np.where(Zs_samples >= t.isf(0.95, df=number_samples-1), 'red','black')\n",
    "        #np.random.seed(r)\n",
    "        random_ys=[np.random.rand()*t.pdf(Zs_samples[i], df=number_samples-1) for i in range(np.size(Zs_samples))]\n",
    "        plt.scatter(Zs_samples,random_ys,s=10,edgecolor=color, facecolors='none')\n",
    "        plt.scatter(Z_score,0,s=20,color='k')\n",
    "        plt.title(\"t-Student's Distribution\")\n",
    "        plt.xlabel('t')\n",
    "        plt.ylabel('P(t)')\n",
    "        #plt.scatter(Zs_samples,np.zeros(np.size(Zs_samples)),s=5,c=color)\n",
    "        plt.show()\n",
    "        print(\"From %d random samples of %d students, there is(are) %d group(s) in which the P-value wouldn't have concluded that the Ho should be rejected\" % (iterations, number_samples,(color=='red').sum()))\n",
    "    else:\n",
    "        print(\"The Ho cannot be rejected according to the sample selected\")\n",
    "        #Plot t curve with the position of test points\n",
    "        x = np.linspace(-6, 6, 500)\n",
    "        plt.figure(figsize=(15, 6)) \n",
    "        plt.plot(x, t.pdf(x, df=number_samples-1))\n",
    "        #plt.plot([Z_score,Z_score],[0,t.pdf(Z_score, df=number_samples)], ls='--', color='k')\n",
    "        #Fill under the curve\n",
    "        plt.fill_between(x,0,t.pdf(x, df=number_samples-1),where=x>=t.isf(0.05, df=number_samples-1),alpha=0.4,color='orange')\n",
    "        plt.fill_between(x,0,t.pdf(x, df=number_samples-1),where=x<=t.isf(0.95, df=number_samples-1),alpha=0.4,color='orange')\n",
    "        plt.scatter(Z_score,0,s=20,color='k')\n",
    "        plt.title(\"t-Student's Distribution\")\n",
    "        plt.xlabel('t')\n",
    "        plt.ylabel('P(t)')\n",
    "        #plt.scatter(Zs_samples,np.zeros(np.size(Zs_samples)),s=5,c=color)\n",
    "        plt.show()\n",
    "    \n",
    "    return\n",
    "              "
   ]
  },
  {
   "cell_type": "markdown",
   "metadata": {},
   "source": [
    "We can now call this function for each one of the scenarios:\n",
    "- Change in the start time\n",
    "- Change in the classroom\n",
    "- Change in the class material\n",
    "\n",
    "By default you will generate 100 iterations but you can also change increase or decrease the number of iterations. It is also important to define the sample size you want to use. Remember, this sample size is used at the beginning of the algorithm to calculate the first P-value. After this, each of the samples that is randomly selected will have the same size.\n",
    "\n",
    "#### This is an example with a change in the start time:    "
   ]
  },
  {
   "cell_type": "code",
   "execution_count": null,
   "metadata": {},
   "outputs": [],
   "source": [
    "PValues(Grades_norm,\"Time\",20)"
   ]
  },
  {
   "cell_type": "markdown",
   "metadata": {},
   "source": [
    "#### This is an example with a change in the classroom:"
   ]
  },
  {
   "cell_type": "code",
   "execution_count": null,
   "metadata": {},
   "outputs": [],
   "source": [
    "PValues(Grades_norm,\"Classroom\",20)"
   ]
  },
  {
   "cell_type": "markdown",
   "metadata": {},
   "source": [
    "#### This is an example with a change in the class material:"
   ]
  },
  {
   "cell_type": "code",
   "execution_count": null,
   "metadata": {},
   "outputs": [],
   "source": [
    "PValues(Grades_norm,\"Material\",20)"
   ]
  },
  {
   "cell_type": "markdown",
   "metadata": {},
   "source": [
    "### Part 2:\n",
    "<b>Problem:</b> We would like to find a correlation between driver's age and the distance at which they are able to see a highway sign. This dataset is taken from the <a href=\"https://online.stat.psu.edu/stat501/lesson/2/2.12\">Example 2-5: Highway Sign Reading Distance and Driver Age</a> in the <a href=\"https://online.stat.psu.edu/stat501/\">STAT 501-PennState page.</a> The dataset is saved in `Age_Distance.csv`. For this first part we will use column 1 (Age) and column 2 (Distance). The third column will be used in a different exercise.\n",
    "\n",
    "Let's save the dataset in variable named `AD` and plot its values"
   ]
  },
  {
   "cell_type": "code",
   "execution_count": 43,
   "metadata": {},
   "outputs": [
    {
     "data": {
      "image/png": "[encoded data removed]",
      "text/plain": [
       "<Figure size 1080x360 with 1 Axes>"
      ]
     },
     "metadata": {
      "needs_background": "light"
     },
     "output_type": "display_data"
    }
   ],
   "source": [
    "AD=pd.read_csv(\"Age_Distance.csv\")\n",
    "plt.figure(figsize=(15, 5))\n",
    "plt.xlabel('Age')\n",
    "plt.ylabel('Distance (m)')\n",
    "plt.ylim(0,600)\n",
    "plt.grid(zorder=1.0)\n",
    "plt.scatter(AD['Age'], AD['Distance'], color='darkblue',zorder=2.0)\n",
    "plt.show()"
   ]
  },
  {
   "cell_type": "markdown",
   "metadata": {},
   "source": [
    "<b>Solution:</b> We can use the <a href=https://www.statsmodels.org/stable/index.html>statsmodels</a> library to generate a linear regression and obtain the parameters that best fit the results. In this case, we would like to have a function of the type $Distance=a_0+a_1*Age$. To calculate this we will define a variable $Y$ that contains the independent variable, distances; and a variable $X$ that corresponds to the ages. Because we want a bias term, we will use the function `add_constant` to modify $X$ such that we obtain $a_0$ and $a_1$\n"
   ]
  },
  {
   "cell_type": "code",
   "execution_count": 22,
   "metadata": {},
   "outputs": [
    {
     "name": "stderr",
     "output_type": "stream",
     "text": [
      "C:\\Users\\Manfre\\anaconda3\\lib\\site-packages\\statsmodels\\tsa\\tsatools.py:142: FutureWarning: In a future version of pandas all arguments of concat except for the argument 'objs' will be keyword-only\n",
      "  x = pd.concat(x[::order], 1)\n"
     ]
    },
    {
     "data": {
      "text/html": [
       "<table class=\"simpletable\">\n",
       "<caption>OLS Regression Results</caption>\n",
       "<tr>\n",
       "  <th>Dep. Variable:</th>        <td>Distance</td>     <th>  R-squared:         </th> <td>   0.642</td>\n",
       "</tr>\n",
       "<tr>\n",
       "  <th>Model:</th>                   <td>OLS</td>       <th>  Adj. R-squared:    </th> <td>   0.629</td>\n",
       "</tr>\n",
       "<tr>\n",
       "  <th>Method:</th>             <td>Least Squares</td>  <th>  F-statistic:       </th> <td>   50.21</td>\n",
       "</tr>\n",
       "<tr>\n",
       "  <th>Date:</th>             <td>Wed, 11 May 2022</td> <th>  Prob (F-statistic):</th> <td>1.04e-07</td>\n",
       "</tr>\n",
       "<tr>\n",
       "  <th>Time:</th>                 <td>12:12:49</td>     <th>  Log-Likelihood:    </th> <td> -158.75</td>\n",
       "</tr>\n",
       "<tr>\n",
       "  <th>No. Observations:</th>      <td>    30</td>      <th>  AIC:               </th> <td>   321.5</td>\n",
       "</tr>\n",
       "<tr>\n",
       "  <th>Df Residuals:</th>          <td>    28</td>      <th>  BIC:               </th> <td>   324.3</td>\n",
       "</tr>\n",
       "<tr>\n",
       "  <th>Df Model:</th>              <td>     1</td>      <th>                     </th>     <td> </td>   \n",
       "</tr>\n",
       "<tr>\n",
       "  <th>Covariance Type:</th>      <td>nonrobust</td>    <th>                     </th>     <td> </td>   \n",
       "</tr>\n",
       "</table>\n",
       "<table class=\"simpletable\">\n",
       "<tr>\n",
       "    <td></td>       <th>coef</th>     <th>std err</th>      <th>t</th>      <th>P>|t|</th>  <th>[0.025</th>    <th>0.975]</th>  \n",
       "</tr>\n",
       "<tr>\n",
       "  <th>const</th> <td>  576.6819</td> <td>   23.471</td> <td>   24.570</td> <td> 0.000</td> <td>  528.604</td> <td>  624.760</td>\n",
       "</tr>\n",
       "<tr>\n",
       "  <th>Age</th>   <td>   -3.0068</td> <td>    0.424</td> <td>   -7.086</td> <td> 0.000</td> <td>   -3.876</td> <td>   -2.138</td>\n",
       "</tr>\n",
       "</table>\n",
       "<table class=\"simpletable\">\n",
       "<tr>\n",
       "  <th>Omnibus:</th>       <td> 0.684</td> <th>  Durbin-Watson:     </th> <td>   2.149</td>\n",
       "</tr>\n",
       "<tr>\n",
       "  <th>Prob(Omnibus):</th> <td> 0.710</td> <th>  Jarque-Bera (JB):  </th> <td>   0.710</td>\n",
       "</tr>\n",
       "<tr>\n",
       "  <th>Skew:</th>          <td> 0.125</td> <th>  Prob(JB):          </th> <td>   0.701</td>\n",
       "</tr>\n",
       "<tr>\n",
       "  <th>Kurtosis:</th>      <td> 2.289</td> <th>  Cond. No.          </th> <td>    143.</td>\n",
       "</tr>\n",
       "</table><br/><br/>Notes:<br/>[1] Standard Errors assume that the covariance matrix of the errors is correctly specified."
      ],
      "text/plain": [
       "<class 'statsmodels.iolib.summary.Summary'>\n",
       "\"\"\"\n",
       "                            OLS Regression Results                            \n",
       "==============================================================================\n",
       "Dep. Variable:               Distance   R-squared:                       0.642\n",
       "Model:                            OLS   Adj. R-squared:                  0.629\n",
       "Method:                 Least Squares   F-statistic:                     50.21\n",
       "Date:                Wed, 11 May 2022   Prob (F-statistic):           1.04e-07\n",
       "Time:                        12:12:49   Log-Likelihood:                -158.75\n",
       "No. Observations:                  30   AIC:                             321.5\n",
       "Df Residuals:                      28   BIC:                             324.3\n",
       "Df Model:                           1                                         \n",
       "Covariance Type:            nonrobust                                         \n",
       "==============================================================================\n",
       "                 coef    std err          t      P>|t|      [0.025      0.975]\n",
       "------------------------------------------------------------------------------\n",
       "const        576.6819     23.471     24.570      0.000     528.604     624.760\n",
       "Age           -3.0068      0.424     -7.086      0.000      -3.876      -2.138\n",
       "==============================================================================\n",
       "Omnibus:                        0.684   Durbin-Watson:                   2.149\n",
       "Prob(Omnibus):                  0.710   Jarque-Bera (JB):                0.710\n",
       "Skew:                           0.125   Prob(JB):                        0.701\n",
       "Kurtosis:                       2.289   Cond. No.                         143.\n",
       "==============================================================================\n",
       "\n",
       "Notes:\n",
       "[1] Standard Errors assume that the covariance matrix of the errors is correctly specified.\n",
       "\"\"\""
      ]
     },
     "execution_count": 22,
     "metadata": {},
     "output_type": "execute_result"
    }
   ],
   "source": [
    "X=AD['Age']\n",
    "Y=AD['Distance']\n",
    "X=sm.add_constant(X)\n",
    "linear_model=sm.OLS(Y,X)\n",
    "linear_fit=linear_model.fit()\n",
    "linear_fit.summary()"
   ]
  },
  {
   "cell_type": "markdown",
   "metadata": {},
   "source": [
    "After performing the linear regression, we get the following coefficients:"
   ]
  },
  {
   "cell_type": "code",
   "execution_count": 29,
   "metadata": {},
   "outputs": [
    {
     "name": "stdout",
     "output_type": "stream",
     "text": [
      "a0: 576.6819371727748\n",
      "a1: -3.0068353694008136\n"
     ]
    }
   ],
   "source": [
    "print(\"a0:\",linear_fit.params[0])\n",
    "print(\"a1:\",linear_fit.params[1])"
   ]
  },
  {
   "cell_type": "markdown",
   "metadata": {},
   "source": [
    "And this is how it would look if we try to plot the function and the data points together:"
   ]
  },
  {
   "cell_type": "code",
   "execution_count": 44,
   "metadata": {},
   "outputs": [
    {
     "data": {
      "image/png": "[encoded data removed]",
      "text/plain": [
       "<Figure size 1080x360 with 1 Axes>"
      ]
     },
     "metadata": {
      "needs_background": "light"
     },
     "output_type": "display_data"
    }
   ],
   "source": [
    "x = np.linspace(15, 100, 2)\n",
    "y = linear_fit.params[0]+linear_fit.params[1]*x\n",
    "plt.figure(figsize=(15, 5))\n",
    "plt.xlabel('Age')\n",
    "plt.ylabel('Distance (m)')\n",
    "plt.ylim(0,600)\n",
    "plt.grid(zorder=1.0)\n",
    "plt.scatter(AD['Age'], AD['Distance'], color='darkblue',zorder=2.0)\n",
    "plt.plot(x,y,color='black')\n",
    "plt.show()"
   ]
  },
  {
   "cell_type": "markdown",
   "metadata": {},
   "source": [
    "The P-values for these coefficients are:"
   ]
  },
  {
   "cell_type": "code",
   "execution_count": 30,
   "metadata": {},
   "outputs": [
    {
     "name": "stdout",
     "output_type": "stream",
     "text": [
      "P-value for a0: 1.7251124207421908e-20\n",
      "P-value for a1: 1.0409975572931604e-07\n"
     ]
    }
   ],
   "source": [
    "print(\"P-value for a0:\",linear_fit.pvalues[0])\n",
    "print(\"P-value for a1:\",linear_fit.pvalues[1])"
   ]
  },
  {
   "cell_type": "markdown",
   "metadata": {},
   "source": [
    "As you can see, these are really small values. Considerably smaller than 0.05. In this case this means that we cannot reject the null hypothesis which is another way of saying that we have statistically significant evidence that these two coefficients are not zero. The process by which these P-values are calculated is not that different from the process showed in Part 1. This is better explained in the Medium article mentioned at the beginning of this notebook.\n",
    "Now, let's imagine that we have a different dataset of Distances vs Age and this time it looks like this:"
   ]
  },
  {
   "cell_type": "code",
   "execution_count": 45,
   "metadata": {},
   "outputs": [
    {
     "data": {
      "image/png": "[encoded data removed]",
      "text/plain": [
       "<Figure size 1080x360 with 1 Axes>"
      ]
     },
     "metadata": {
      "needs_background": "light"
     },
     "output_type": "display_data"
    }
   ],
   "source": [
    "plt.figure(figsize=(15, 5))\n",
    "plt.xlabel('Age')\n",
    "plt.ylabel('Distance (m)')\n",
    "plt.ylim(0,600)\n",
    "plt.grid(zorder=1.0)\n",
    "plt.scatter(AD['Age'], AD['Distance1'], color='darkblue',zorder=2.0)\n",
    "plt.show()"
   ]
  },
  {
   "cell_type": "markdown",
   "metadata": {},
   "source": [
    "We can use statsmodels again to calculate to perform the linear regression:"
   ]
  },
  {
   "cell_type": "code",
   "execution_count": 46,
   "metadata": {},
   "outputs": [
    {
     "data": {
      "text/html": [
       "<table class=\"simpletable\">\n",
       "<caption>OLS Regression Results</caption>\n",
       "<tr>\n",
       "  <th>Dep. Variable:</th>        <td>Distance1</td>    <th>  R-squared:         </th> <td>   0.002</td>\n",
       "</tr>\n",
       "<tr>\n",
       "  <th>Model:</th>                   <td>OLS</td>       <th>  Adj. R-squared:    </th> <td>  -0.034</td>\n",
       "</tr>\n",
       "<tr>\n",
       "  <th>Method:</th>             <td>Least Squares</td>  <th>  F-statistic:       </th> <td> 0.05311</td>\n",
       "</tr>\n",
       "<tr>\n",
       "  <th>Date:</th>             <td>Wed, 11 May 2022</td> <th>  Prob (F-statistic):</th>  <td> 0.819</td> \n",
       "</tr>\n",
       "<tr>\n",
       "  <th>Time:</th>                 <td>12:37:41</td>     <th>  Log-Likelihood:    </th> <td> -110.58</td>\n",
       "</tr>\n",
       "<tr>\n",
       "  <th>No. Observations:</th>      <td>    30</td>      <th>  AIC:               </th> <td>   225.2</td>\n",
       "</tr>\n",
       "<tr>\n",
       "  <th>Df Residuals:</th>          <td>    28</td>      <th>  BIC:               </th> <td>   228.0</td>\n",
       "</tr>\n",
       "<tr>\n",
       "  <th>Df Model:</th>              <td>     1</td>      <th>                     </th>     <td> </td>   \n",
       "</tr>\n",
       "<tr>\n",
       "  <th>Covariance Type:</th>      <td>nonrobust</td>    <th>                     </th>     <td> </td>   \n",
       "</tr>\n",
       "</table>\n",
       "<table class=\"simpletable\">\n",
       "<tr>\n",
       "    <td></td>       <th>coef</th>     <th>std err</th>      <th>t</th>      <th>P>|t|</th>  <th>[0.025</th>    <th>0.975]</th>  \n",
       "</tr>\n",
       "<tr>\n",
       "  <th>const</th> <td>  501.0013</td> <td>    4.712</td> <td>  106.320</td> <td> 0.000</td> <td>  491.349</td> <td>  510.654</td>\n",
       "</tr>\n",
       "<tr>\n",
       "  <th>Age</th>   <td>   -0.0196</td> <td>    0.085</td> <td>   -0.230</td> <td> 0.819</td> <td>   -0.194</td> <td>    0.155</td>\n",
       "</tr>\n",
       "</table>\n",
       "<table class=\"simpletable\">\n",
       "<tr>\n",
       "  <th>Omnibus:</th>       <td>126.367</td> <th>  Durbin-Watson:     </th> <td>   3.902</td>\n",
       "</tr>\n",
       "<tr>\n",
       "  <th>Prob(Omnibus):</th> <td> 0.000</td>  <th>  Jarque-Bera (JB):  </th> <td>   4.618</td>\n",
       "</tr>\n",
       "<tr>\n",
       "  <th>Skew:</th>          <td>-0.013</td>  <th>  Prob(JB):          </th> <td>  0.0993</td>\n",
       "</tr>\n",
       "<tr>\n",
       "  <th>Kurtosis:</th>      <td> 1.078</td>  <th>  Cond. No.          </th> <td>    143.</td>\n",
       "</tr>\n",
       "</table><br/><br/>Notes:<br/>[1] Standard Errors assume that the covariance matrix of the errors is correctly specified."
      ],
      "text/plain": [
       "<class 'statsmodels.iolib.summary.Summary'>\n",
       "\"\"\"\n",
       "                            OLS Regression Results                            \n",
       "==============================================================================\n",
       "Dep. Variable:              Distance1   R-squared:                       0.002\n",
       "Model:                            OLS   Adj. R-squared:                 -0.034\n",
       "Method:                 Least Squares   F-statistic:                   0.05311\n",
       "Date:                Wed, 11 May 2022   Prob (F-statistic):              0.819\n",
       "Time:                        12:37:41   Log-Likelihood:                -110.58\n",
       "No. Observations:                  30   AIC:                             225.2\n",
       "Df Residuals:                      28   BIC:                             228.0\n",
       "Df Model:                           1                                         \n",
       "Covariance Type:            nonrobust                                         \n",
       "==============================================================================\n",
       "                 coef    std err          t      P>|t|      [0.025      0.975]\n",
       "------------------------------------------------------------------------------\n",
       "const        501.0013      4.712    106.320      0.000     491.349     510.654\n",
       "Age           -0.0196      0.085     -0.230      0.819      -0.194       0.155\n",
       "==============================================================================\n",
       "Omnibus:                      126.367   Durbin-Watson:                   3.902\n",
       "Prob(Omnibus):                  0.000   Jarque-Bera (JB):                4.618\n",
       "Skew:                          -0.013   Prob(JB):                       0.0993\n",
       "Kurtosis:                       1.078   Cond. No.                         143.\n",
       "==============================================================================\n",
       "\n",
       "Notes:\n",
       "[1] Standard Errors assume that the covariance matrix of the errors is correctly specified.\n",
       "\"\"\""
      ]
     },
     "execution_count": 46,
     "metadata": {},
     "output_type": "execute_result"
    }
   ],
   "source": [
    "Y2=AD['Distance1']\n",
    "linear_model2=sm.OLS(Y2,X)\n",
    "linear_fit2=linear_model2.fit()\n",
    "linear_fit2.summary()"
   ]
  },
  {
   "cell_type": "markdown",
   "metadata": {},
   "source": [
    "This time, the coefficients are:"
   ]
  },
  {
   "cell_type": "code",
   "execution_count": 47,
   "metadata": {},
   "outputs": [
    {
     "name": "stdout",
     "output_type": "stream",
     "text": [
      "a0: 501.00130890052344\n",
      "a1: -0.0196335078534024\n"
     ]
    }
   ],
   "source": [
    "print(\"a0:\",linear_fit2.params[0])\n",
    "print(\"a1:\",linear_fit2.params[1])"
   ]
  },
  {
   "cell_type": "markdown",
   "metadata": {},
   "source": [
    "And this is how it would look if we try to plot the function and the data points together:"
   ]
  },
  {
   "cell_type": "code",
   "execution_count": 48,
   "metadata": {},
   "outputs": [
    {
     "data": {
      "image/png": "[encoded data removed]",
      "text/plain": [
       "<Figure size 1080x360 with 1 Axes>"
      ]
     },
     "metadata": {
      "needs_background": "light"
     },
     "output_type": "display_data"
    }
   ],
   "source": [
    "x = np.linspace(15, 100, 2)\n",
    "y = linear_fit2.params[0]+linear_fit2.params[1]*x\n",
    "plt.figure(figsize=(15, 5))\n",
    "plt.xlabel('Age')\n",
    "plt.ylabel('Distance (m)')\n",
    "plt.ylim(0,600)\n",
    "plt.grid(zorder=1.0)\n",
    "plt.scatter(AD['Age'], AD['Distance1'], color='darkblue',zorder=2.0)\n",
    "plt.plot(x,y,color='black')\n",
    "plt.show()"
   ]
  },
  {
   "cell_type": "markdown",
   "metadata": {},
   "source": [
    "The P-values for these coefficients are:"
   ]
  },
  {
   "cell_type": "code",
   "execution_count": 50,
   "metadata": {},
   "outputs": [
    {
     "name": "stdout",
     "output_type": "stream",
     "text": [
      "P-value for a0: 4.730767841895996e-38\n",
      "P-value for a1: 0.8194112040844459\n"
     ]
    }
   ],
   "source": [
    "print(\"P-value for a0:\",linear_fit2.pvalues[0])\n",
    "print(\"P-value for a1:\",linear_fit2.pvalues[1])"
   ]
  },
  {
   "cell_type": "markdown",
   "metadata": {},
   "source": [
    "This time the P-value for $a_1$ is greater than 0.05. A visual inspection of the previous plot can give us a hint about this. The way in which the points are now aligned is not strongly related to the slope of the curve. Actually, we could disregard $a_1$ and we would end up with a fit that is very similar to the one we just obtained. This means that this time we have statistically significant evidence that the coefficient $a_1$ is zero."
   ]
  },
  {
   "cell_type": "markdown",
   "metadata": {},
   "source": [
    "### Conclusion:"
   ]
  },
  {
   "cell_type": "markdown",
   "metadata": {},
   "source": [
    "The objective of this notebook was to present a simple example that illustrates how the P-values are calculated and what do they mean. Since they appear in most linear regressions packages or libraries it is important to understand them. In many cases they are used to separate significant coefficients from not significant ones. However, the essence of P-values goes beyond a discrimination criteria. "
   ]
  },
  {
   "cell_type": "code",
   "execution_count": null,
   "metadata": {},
   "outputs": [],
   "source": []
  }
 ],
 "metadata": {
  "kernelspec": {
   "display_name": "Python 3 (ipykernel)",
   "language": "python",
   "name": "python3"
  },
  "language_info": {
   "codemirror_mode": {
    "name": "ipython",
    "version": 3
   },
   "file_extension": ".py",
   "mimetype": "text/x-python",
   "name": "python",
   "nbconvert_exporter": "python",
   "pygments_lexer": "ipython3",
   "version": "3.9.7"
  }
 },
 "nbformat": 4,
 "nbformat_minor": 2
}
